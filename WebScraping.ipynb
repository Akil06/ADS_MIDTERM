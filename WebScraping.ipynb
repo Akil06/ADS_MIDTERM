{
 "cells": [
  {
   "cell_type": "code",
   "execution_count": 13,
   "metadata": {
    "collapsed": true
   },
   "outputs": [],
   "source": [
    "import requests\n",
    "from lxml import html\n",
    "import os\n",
    "import sys\n",
    "import logging # for logging\n",
    "import shutil #to delete the directory contents\n",
    "import zipfile\n",
    "from zipfile import ZipFile\n",
    "from io import BytesIO\n",
    "import pandas as pd\n",
    "import zipfile\n",
    "import numpy as np\n",
    "import json\n",
    "import logging\n",
    "import logging.handlers\n",
    "import time\n",
    "import glob\n",
    "import csv\n",
    "import seaborn as sns\n",
    "from numbers import Number"
   ]
  },
  {
   "cell_type": "code",
   "execution_count": 2,
   "metadata": {},
   "outputs": [
    {
     "name": "stdout",
     "output_type": "stream",
     "text": [
      "2017-07-21_21_19_55.log\n"
     ]
    }
   ],
   "source": [
    "import logging\n",
    "import logging.handlers\n",
    "\n",
    "logger=logging.getLogger(__name__)\n",
    "logger.setLevel(logging.INFO)\n",
    "\n",
    "logfile1 = time.strftime(\"%Y-%m-%d_%H_%M_%S\"+\".log\")\n",
    "print (logfile1)\n",
    "handler= logging.FileHandler(logfile1)\n",
    "handler.setLevel(logging.INFO)\n",
    "\n",
    "formatter= logging.Formatter('%(asctime)s - %(name)s - %(levelname)s - %(message)s')\n",
    "handler.setFormatter(formatter)\n",
    "logger.addHandler(handler)"
   ]
  },
  {
   "cell_type": "code",
   "execution_count": 3,
   "metadata": {
    "collapsed": true
   },
   "outputs": [],
   "source": [
    "logger.info('Reading Json')\n",
    "\n",
    "with open('config.json') as data:\n",
    "    payload=json.load(data)"
   ]
  },
  {
   "cell_type": "code",
   "execution_count": 4,
   "metadata": {
    "collapsed": true
   },
   "outputs": [],
   "source": [
    "Summary='Summaries'\n",
    "path_summary = '/Summaries/'\n",
    "path_to_summary= os.getcwd()+path_summary\n",
    "if not os.path.exists(path_to_summary):\n",
    "    os.makedirs(path_to_summary)"
   ]
  },
  {
   "cell_type": "code",
   "execution_count": null,
   "metadata": {
    "collapsed": true,
    "scrolled": false
   },
   "outputs": [],
   "source": []
  },
  {
   "cell_type": "code",
   "execution_count": 10,
   "metadata": {
    "collapsed": true
   },
   "outputs": [],
   "source": [
    "logger.info('Logging in and Downloading Zip ')\n",
    "filename= 'downloaded_zips'\n",
    "path = '/downloaded_zips'\n",
    "path1= os.getcwd()+path\n",
    "if not os.path.exists(path1):\n",
    "    os.makedirs(path1)\n",
    "with requests.session() as s:\n",
    "    login_url = \"https://freddiemac.embs.com/FLoan/secure/auth.php\"\n",
    "    result = s.post(\n",
    "        login_url, \n",
    "        data = payload, \n",
    "        headers = dict(referer=login_url)\n",
    "    )\n",
    "    result.content\n",
    "    url = 'https://freddiemac.embs.com/FLoan/Data/download.php'\n",
    "    agreement_payload={\n",
    "        \"accept\":\"Yes\",\n",
    "        \"action\":\"acceptTandC\",\n",
    "        \"acceptSubmit\":\"Continue\"\n",
    "        }\n",
    "    result1 = s.post(\n",
    "        url, \n",
    "        agreement_payload,\n",
    "        headers = dict(referer = url)\n",
    "    )\n",
    "    tree = html.fromstring(result1.content)\n",
    "    all_links= tree.findall('.//a')\n",
    "    for link in all_links[76:88]:\n",
    "        href=link.get(\"href\")\n",
    "        if \"sample\" in href:\n",
    "            url= 'https://freddiemac.embs.com/FLoan/Data/'+href\n",
    "            r = s.get(url,stream=True)\n",
    "#             print(r)\n",
    "            with open(os.path.join(path1,link.text), 'wb') as f:\n",
    "#                 print(link.text)\n",
    "                for chunk in r.iter_content(chunk_size=1024):\n",
    "                    if chunk: # filter out keep-alive new chunks\n",
    "                        f.write(chunk)\n",
    "\n",
    "                    \n",
    "logger.info('Successfully downloaded zip files ')"
   ]
  },
  {
   "cell_type": "code",
   "execution_count": 5,
   "metadata": {
    "collapsed": true
   },
   "outputs": [],
   "source": [
    "logger.info('Checking if a folder exists and creating a folder for saving unzipped files')\n",
    "unzip_folder='unzipped_files'\n",
    "path_unzip = '/unzipped_files'\n",
    "path_to_unzip= os.getcwd()+path_unzip\n",
    "if not os.path.exists(path_to_unzip):\n",
    "    os.makedirs(path_to_unzip)"
   ]
  },
  {
   "cell_type": "code",
   "execution_count": 7,
   "metadata": {
    "collapsed": true,
    "scrolled": true
   },
   "outputs": [],
   "source": [
    "logger.info('Unzipping files')\n",
    "filename= 'downloaded_zips'\n",
    "import zipfile\n",
    "for files in glob.glob(os.path.join(filename, '*.zip')):       \n",
    "        with zipfile.ZipFile(files) as zip_ref:\n",
    "            zip_ref.extractall(path_to_unzip)"
   ]
  },
  {
   "cell_type": "code",
   "execution_count": 6,
   "metadata": {
    "collapsed": true
   },
   "outputs": [],
   "source": [
    "logger.info('Reading and Concatenating all the sample Origination files in a dataframe ')\n",
    "final_df=[]\n",
    "for file in glob.glob(os.path.join(path_to_unzip, '*.txt'))[:12]:                                     \n",
    "        a = pd.read_table(file, delimiter='|',header=None,low_memory=False)\n",
    "#         print(a.shape)\n",
    "        final_df.append(a)\n",
    "origination_df=pd.concat(final_df)"
   ]
  },
  {
   "cell_type": "code",
   "execution_count": null,
   "metadata": {
    "collapsed": true,
    "scrolled": true
   },
   "outputs": [],
   "source": []
  },
  {
   "cell_type": "code",
   "execution_count": 9,
   "metadata": {
    "collapsed": true,
    "scrolled": true
   },
   "outputs": [],
   "source": [
    "logger.info('Cleaning the columns')\n",
    "origination_df[0]= pd.DataFrame(origination_df[0].replace(r'\\s+', np.nan, regex=True))\n",
    "origination_df[0]=pd.DataFrame(origination_df[0].fillna(900))\n",
    "\n",
    "origination_df[2]= pd.DataFrame(origination_df[2].replace(r'\\s+', np.nan, regex=True))\n",
    "origination_df[2]=pd.DataFrame(origination_df[2].fillna('U'))\n",
    "\n",
    "origination_df[4] =pd.DataFrame(origination_df[4].replace(r'\\s+', np.nan, regex=True))\n",
    "origination_df[4]=pd.DataFrame(origination_df[4].fillna('00000.0'))\n",
    "\n",
    "origination_df[5]= pd.DataFrame(origination_df[5].replace(r'\\s+', np.nan, regex=True))\n",
    "origination_df[5]=pd.DataFrame(origination_df[5].fillna('56'))\n",
    "\n",
    "origination_df[8] =pd.DataFrame(origination_df[8].replace(r'\\s+', np.nan, regex=True))\n",
    "origination_df[8]=pd.DataFrame(origination_df[8].fillna('201'))\n",
    "\n",
    "origination_df[9]=pd.DataFrame(origination_df[9].fillna('00'))\n",
    "origination_df[9]= pd.DataFrame(origination_df[9].replace(r'\\s+','70', regex=True))\n",
    "\n",
    "origination_df[11]= pd.DataFrame(origination_df[11].replace(r'\\s+', np.nan, regex=True))\n",
    "origination_df[11]=pd.DataFrame(origination_df[11].fillna('106'))\n",
    "\n",
    "origination_df[14]= pd.DataFrame(origination_df[14].replace(r'\\s+', np.nan, regex=True))\n",
    "origination_df[14]=pd.DataFrame(origination_df[14].fillna('U'))\n",
    "\n",
    "origination_df[18]= pd.DataFrame(origination_df[18].replace(r'\\s+', np.nan, regex=True))\n",
    "origination_df[18]=pd.DataFrame(origination_df[18].fillna('0000'))\n",
    "\n",
    "origination_df[22]= pd.DataFrame(origination_df[22].replace(r'\\s+', np.nan, regex=True))\n",
    "origination_df[22]=pd.DataFrame(origination_df[22].fillna('03'))\n",
    "\n",
    "origination_df[23]= pd.DataFrame(origination_df[23].replace(r'\\s+', np.nan, regex=True))\n",
    "origination_df[23]=pd.DataFrame(origination_df[23].fillna('U'))\n",
    "\n",
    "origination_df[24]= pd.DataFrame(origination_df[24].replace(r'\\s+', np.nan, regex=True))\n",
    "origination_df[24]=pd.DataFrame(origination_df[24].fillna('U'))\n",
    "\n",
    "origination_df[25]= pd.DataFrame(origination_df[25].replace(r'\\s+', np.nan, regex=True))\n",
    "origination_df[25]=pd.DataFrame(origination_df[25].fillna('U'))\n",
    "\n",
    "\n",
    "logger.info('Columns Cleaned')"
   ]
  },
  {
   "cell_type": "code",
   "execution_count": 10,
   "metadata": {
    "collapsed": true
   },
   "outputs": [],
   "source": [
    "logger.info('Assigning Column Names')\n",
    "origination_df.columns=['CREDIT SCORE','FIRST PAYMENT DATE','FIRST TIME HOMEBUYER FLAG','MATURITY DATE',\n",
    "                                                'METROPOLITAN DIVISION','MORTGAGE INSURANCE PERCENTAGE (MI %)',\n",
    "                                                'NUMBER OF UNITS','OCCUPANCY STATUS', '(CLTV)','DTI) RATIO','ORIGINAL UPB',\n",
    "                                                '(LTV)','ORIGINAL INTEREST RATE','CHANNEL','(PPM)','PRODUCT TYPE','PROPERTY STATE',\n",
    "                                                'PROPERTY TYPE','POSTAL CODE','LOAN SEQUENCE NUMBER','LOAN PURPOSE','ORIGINAL LOAN TERM',\n",
    "                                                'NUMBER OF BORROWERS','SELLER NAME','SERVICER NAME','Super Conforming Flag']"
   ]
  },
  {
   "cell_type": "code",
   "execution_count": 11,
   "metadata": {
    "collapsed": true
   },
   "outputs": [],
   "source": [
    "logger.info('Creating new column for Year, Month and Quarter')\n",
    "\n",
    "origination_df['year']=pd.DataFrame(origination_df['FIRST PAYMENT DATE'].astype(str))\n",
    "origination_df['month']=pd.DataFrame(origination_df['FIRST PAYMENT DATE'].astype(str))\n",
    "\n",
    "origination_df['year']=pd.DataFrame(origination_df['year'].str[:4])\n",
    "origination_df['month']= pd.DataFrame(origination_df['month'].str[4:6])\n",
    "\n",
    "\n",
    "origination_df.loc[origination_df['month'] <='03', \"Quarter\"] = \"Q1\"\n",
    "origination_df.loc[((origination_df['month'] >='04') & (origination_df['month'] <='06')) , \"Quarter\"] = \"Q2\"\n",
    "origination_df.loc[((origination_df['month'] >='06') & (origination_df['month'] <='09')) , \"Quarter\"] = \"Q3\"\n",
    "origination_df.loc[((origination_df['month'] >='09') & (origination_df['month'] <='12')) , \"Quarter\"] = \"Q4\""
   ]
  },
  {
   "cell_type": "code",
   "execution_count": 12,
   "metadata": {
    "collapsed": true
   },
   "outputs": [],
   "source": [
    "logger.info('Changing the data type of few columns')\n",
    "origination_df['CREDIT SCORE']=pd.DataFrame(origination_df['CREDIT SCORE'].astype(int))\n",
    "origination_df['(CLTV)']=pd.DataFrame(origination_df['(CLTV)'].astype(int))\n",
    "origination_df['(LTV)']=pd.DataFrame(origination_df['(LTV)'].astype(int))\n",
    "origination_df['DTI) RATIO']=pd.DataFrame(origination_df['DTI) RATIO'].astype(int))\n",
    "origination_df['MORTGAGE INSURANCE PERCENTAGE (MI %)']=pd.DataFrame(origination_df['MORTGAGE INSURANCE PERCENTAGE (MI %)'].astype(int))"
   ]
  },
  {
   "cell_type": "code",
   "execution_count": 18,
   "metadata": {
    "collapsed": true,
    "scrolled": true
   },
   "outputs": [],
   "source": [
    "logger.info('Writing the file to a csv file')\n",
    "origination_df.to_csv(path_to_summary+'Origination.csv')"
   ]
  },
  {
   "cell_type": "markdown",
   "metadata": {},
   "source": [
    "# Origination Summary statistics"
   ]
  },
  {
   "cell_type": "markdown",
   "metadata": {},
   "source": [
    "### 1.  Origination loan details over the year and state"
   ]
  },
  {
   "cell_type": "code",
   "execution_count": 17,
   "metadata": {
    "collapsed": true
   },
   "outputs": [],
   "source": [
    "logger.info('Creating Summary file for loan details over the year and state')\n",
    "\n",
    "orig_summary_1= (origination_df.groupby(['PROPERTY STATE','year'])['NUMBER OF UNITS'].count()).reset_index()\n",
    "\n",
    "orig_summary_2= (origination_df.groupby(['PROPERTY STATE','year'])['ORIGINAL UPB','CREDIT SCORE','(CLTV)','(LTV)','DTI) RATIO','MORTGAGE INSURANCE PERCENTAGE (MI %)',\n",
    "                                           'ORIGINAL INTEREST RATE'].mean()).reset_index()\n",
    "\n",
    "orig_final_summary_1=orig_summary_1.merge(orig_summary_2,on=['PROPERTY STATE','year'],how='left')\n",
    "\n",
    "orig_final_summary_1.to_csv(path_to_summary+'Orig_Loan_Details_Over_Year_State.csv')"
   ]
  },
  {
   "cell_type": "code",
   "execution_count": null,
   "metadata": {
    "collapsed": true
   },
   "outputs": [],
   "source": []
  },
  {
   "cell_type": "code",
   "execution_count": null,
   "metadata": {
    "collapsed": true
   },
   "outputs": [],
   "source": []
  },
  {
   "cell_type": "markdown",
   "metadata": {},
   "source": [
    "### 2. Origination loan type over the year and state"
   ]
  },
  {
   "cell_type": "code",
   "execution_count": 29,
   "metadata": {
    "collapsed": true
   },
   "outputs": [],
   "source": [
    "logger.info('Creating Summary file for loan type over year annd state')\n",
    "orig_summary3= pd.DataFrame(origination_df.groupby(['year','NUMBER OF UNITS','OCCUPANCY STATUS','CHANNEL','PROPERTY TYPE','PROPERTY STATE',\n",
    "                                              'FIRST TIME HOMEBUYER FLAG','POSTAL CODE','LOAN PURPOSE','NUMBER OF BORROWERS'])['NUMBER OF UNITS'].count())\n",
    "\n",
    "\n",
    "\n",
    "orig_summary3.to_csv(path_to_summary+'Loan_Type_Year_State.csv')"
   ]
  },
  {
   "cell_type": "code",
   "execution_count": null,
   "metadata": {
    "collapsed": true
   },
   "outputs": [],
   "source": []
  },
  {
   "cell_type": "markdown",
   "metadata": {
    "collapsed": true
   },
   "source": [
    "### 3. Origination Summary over loan number"
   ]
  },
  {
   "cell_type": "code",
   "execution_count": 30,
   "metadata": {
    "collapsed": true
   },
   "outputs": [],
   "source": [
    "logger.info('Summary file over loan number')\n",
    "orig_summary_4= (origination_df.groupby(['LOAN SEQUENCE NUMBER','year'])['ORIGINAL UPB','CREDIT SCORE','(CLTV)','(LTV)','DTI) RATIO','MORTGAGE INSURANCE PERCENTAGE (MI %)',\n",
    "                                           'ORIGINAL INTEREST RATE'].mean()).reset_index()\n",
    "\n",
    "orig_summary_4.to_csv(path_to_summary+'Orig_Loan_Number_Summary.csv')"
   ]
  },
  {
   "cell_type": "code",
   "execution_count": null,
   "metadata": {
    "collapsed": true
   },
   "outputs": [],
   "source": []
  },
  {
   "cell_type": "markdown",
   "metadata": {},
   "source": [
    "## Pre-Precoessing of  Performance files"
   ]
  },
  {
   "cell_type": "code",
   "execution_count": 5,
   "metadata": {
    "collapsed": true,
    "scrolled": true
   },
   "outputs": [],
   "source": [
    "import glob,os\n",
    "b=[]\n",
    "for file in glob.glob(os.path.join(path_to_unzip, '*.txt'))[12:24]:                                     \n",
    "#     print(file)\n",
    "    b.append(file)"
   ]
  },
  {
   "cell_type": "code",
   "execution_count": 6,
   "metadata": {
    "scrolled": false
   },
   "outputs": [
    {
     "name": "stderr",
     "output_type": "stream",
     "text": [
      "C:\\Users\\AkilP\\Anaconda3\\lib\\site-packages\\IPython\\core\\interactiveshell.py:2717: DtypeWarning: Columns (3,7,14) have mixed types. Specify dtype option on import or set low_memory=False.\n",
      "  interactivity=interactivity, compiler=compiler, result=result)\n",
      "C:\\Users\\AkilP\\Anaconda3\\lib\\site-packages\\IPython\\core\\interactiveshell.py:2717: DtypeWarning: Columns (14) have mixed types. Specify dtype option on import or set low_memory=False.\n",
      "  interactivity=interactivity, compiler=compiler, result=result)\n",
      "C:\\Users\\AkilP\\Anaconda3\\lib\\site-packages\\IPython\\core\\interactiveshell.py:2717: DtypeWarning: Columns (3,14) have mixed types. Specify dtype option on import or set low_memory=False.\n",
      "  interactivity=interactivity, compiler=compiler, result=result)\n",
      "C:\\Users\\AkilP\\Anaconda3\\lib\\site-packages\\IPython\\core\\interactiveshell.py:2717: DtypeWarning: Columns (3,7) have mixed types. Specify dtype option on import or set low_memory=False.\n",
      "  interactivity=interactivity, compiler=compiler, result=result)\n",
      "C:\\Users\\AkilP\\Anaconda3\\lib\\site-packages\\IPython\\core\\interactiveshell.py:2717: DtypeWarning: Columns (7) have mixed types. Specify dtype option on import or set low_memory=False.\n",
      "  interactivity=interactivity, compiler=compiler, result=result)\n"
     ]
    }
   ],
   "source": [
    "logger.info('Creating a Dataframe for performance file, CLeaning it and taking the neccessary columns')\n",
    "summary1=[]\n",
    "for x in b:\n",
    "    \n",
    "    a = pd.read_table(x, delimiter='|',header=None)\n",
    "    a[6]=pd.DataFrame(a[6].fillna('U'))\n",
    "    a[7]=pd.DataFrame(a[7].fillna('N'))\n",
    "    a[8]=pd.DataFrame(a[8].fillna('00'))\n",
    "    a[9]=pd.DataFrame(a[9].fillna('000000'))\n",
    "    a[12]=pd.DataFrame(a[12].fillna('000000'))\n",
    "    a[13]=pd.DataFrame(a[13].fillna('000000'))\n",
    "    a[14]=pd.DataFrame(a[14].fillna('000000'))\n",
    "    a[15]=pd.DataFrame(a[15].fillna('000000'))\n",
    "    a[16]=pd.DataFrame(a[16].fillna('000000'))\n",
    "    a[17]=pd.DataFrame(a[17].fillna('000000'))\n",
    "    a[18]=pd.DataFrame(a[18].fillna('000000'))\n",
    "    a[19]=pd.DataFrame(a[19].fillna('000000'))\n",
    "    a[20]=pd.DataFrame(a[20].fillna('000000'))\n",
    "    a[21]=pd.DataFrame(a[21].fillna('000000'))\n",
    "    a[22]=pd.DataFrame(a[22].fillna('000000'))\n",
    "    \n",
    "    a.columns=['LOAN SEQUENCE NUMBER','MONTHLY REPORTING PERIOD','CURRENT ACTUAL UPB','CURRENT LOAN DELINQUENCY STATUS',\n",
    "                          'LOAN AGE','REMAINING MONTHS TO LEGAL MATURITY','REPURCHASE FLAG','MODIFICATION FLAG','ZERO BALANCE CODE',\n",
    "                          'ZERO BALANCE EFFECTIVE DATE','CURRENT INTEREST RATE','CURRENT DEFERRED UPB','DUE DATE OF LAST PAID INSTALLMENT (DDLPI)',\n",
    "                          'MI RECOVERIES','NET SALES PROCEEDS','NON MI RECOVERIES','EXPENSES','Legal Costs','Maintenance and Preservation Costs','Taxes and Insurance',\n",
    "                          'Miscellaneous Expenses','Actual Loss Calculation','Modification Cost']\n",
    "#     a.to_csv('123.csv',chunksize=1024)\n",
    "    a['year']=pd.DataFrame(a['MONTHLY REPORTING PERIOD'].astype(str))\n",
    "    a['year']=pd.DataFrame(a['year'].str[:4])\n",
    "    a['CURRENT LOAN DELINQUENCY STATUS']=pd.DataFrame(a['CURRENT LOAN DELINQUENCY STATUS'].replace(r'R', 0, regex=True))\n",
    "    a['CURRENT LOAN DELINQUENCY STATUS']=pd.DataFrame(a['CURRENT LOAN DELINQUENCY STATUS'].replace(r'XX', 0, regex=True))\n",
    "    a['CURRENT LOAN DELINQUENCY STATUS']=pd.DataFrame(a['CURRENT LOAN DELINQUENCY STATUS'].replace(r'\\s+', 0, regex=True))\n",
    "    a['CURRENT LOAN DELINQUENCY STATUS']=pd.DataFrame(a['CURRENT LOAN DELINQUENCY STATUS'].astype(int))\n",
    "    a['MI RECOVERIES']=pd.DataFrame(a['MI RECOVERIES'].astype(int))\n",
    "    a['EXPENSES']=pd.DataFrame(a['EXPENSES'].astype(int))\n",
    "    a['Maintenance and Preservation Costs']=pd.DataFrame(a['Maintenance and Preservation Costs'].astype(int))\n",
    "    a['Actual Loss Calculation']=pd.DataFrame(a['Actual Loss Calculation'].astype(int))\n",
    "    df1=pd.DataFrame(a.groupby(['year','LOAN SEQUENCE NUMBER'])['CURRENT LOAN DELINQUENCY STATUS','CURRENT ACTUAL UPB','LOAN AGE','REMAINING MONTHS TO LEGAL MATURITY',\n",
    "                                    'CURRENT INTEREST RATE','CURRENT DEFERRED UPB','MI RECOVERIES','EXPENSES','Maintenance and Preservation Costs',\n",
    "                                     'Actual Loss Calculation'].mean())\n",
    "    \n",
    "    summary1.append(df1)\n",
    "    \n",
    "final_summary_1= pd.concat(summary1)\n",
    "\n",
    "    \n"
   ]
  },
  {
   "cell_type": "code",
   "execution_count": 31,
   "metadata": {
    "collapsed": true
   },
   "outputs": [],
   "source": [
    "del summary1\n",
    "final_summary_1.to_csv(path_to_summary+'Summary1_Performance.csv')\n",
    "del final_summary_1"
   ]
  },
  {
   "cell_type": "code",
   "execution_count": 32,
   "metadata": {
    "scrolled": true
   },
   "outputs": [
    {
     "name": "stderr",
     "output_type": "stream",
     "text": [
      "C:\\Users\\AkilP\\Anaconda3\\lib\\site-packages\\IPython\\core\\interactiveshell.py:2717: DtypeWarning: Columns (14) have mixed types. Specify dtype option on import or set low_memory=False.\n",
      "  interactivity=interactivity, compiler=compiler, result=result)\n",
      "C:\\Users\\AkilP\\Anaconda3\\lib\\site-packages\\IPython\\core\\interactiveshell.py:2717: DtypeWarning: Columns (3,14) have mixed types. Specify dtype option on import or set low_memory=False.\n",
      "  interactivity=interactivity, compiler=compiler, result=result)\n",
      "C:\\Users\\AkilP\\Anaconda3\\lib\\site-packages\\IPython\\core\\interactiveshell.py:2717: DtypeWarning: Columns (3,7,14) have mixed types. Specify dtype option on import or set low_memory=False.\n",
      "  interactivity=interactivity, compiler=compiler, result=result)\n"
     ]
    }
   ],
   "source": [
    "logger.info('Creating second performance Summary')\n",
    "import csv\n",
    "summary2=[]\n",
    "for files in b[2:5]:\n",
    "    \n",
    "    a = pd.read_table(files, delimiter='|',header=None)\n",
    "    a[6]=pd.DataFrame(a[6].fillna('U'))\n",
    "    a[7]=pd.DataFrame(a[7].fillna('N'))\n",
    "    a[8]=pd.DataFrame(a[8].fillna('00'))\n",
    "    a[9]=pd.DataFrame(a[9].fillna('000000'))\n",
    "    a[12]=pd.DataFrame(a[12].fillna('000000'))\n",
    "    a[13]=pd.DataFrame(a[13].fillna('000000'))\n",
    "    a[14]=pd.DataFrame(a[14].fillna('000000'))\n",
    "    a[15]=pd.DataFrame(a[15].fillna('000000'))\n",
    "    a[16]=pd.DataFrame(a[16].fillna('000000'))\n",
    "    a[17]=pd.DataFrame(a[17].fillna('000000'))\n",
    "    a[18]=pd.DataFrame(a[18].fillna('000000'))\n",
    "    a[19]=pd.DataFrame(a[19].fillna('000000'))\n",
    "    a[20]=pd.DataFrame(a[20].fillna('000000'))\n",
    "    a[21]=pd.DataFrame(a[21].fillna('000000'))\n",
    "    a[22]=pd.DataFrame(a[22].fillna('000000'))\n",
    "    \n",
    "    a.columns=['LOAN SEQUENCE NUMBER','MONTHLY REPORTING PERIOD','CURRENT ACTUAL UPB','CURRENT LOAN DELINQUENCY STATUS',\n",
    "                          'LOAN AGE','REMAINING MONTHS TO LEGAL MATURITY','REPURCHASE FLAG','MODIFICATION FLAG','ZERO BALANCE CODE',\n",
    "                          'ZERO BALANCE EFFECTIVE DATE','CURRENT INTEREST RATE','CURRENT DEFERRED UPB','DUE DATE OF LAST PAID INSTALLMENT (DDLPI)',\n",
    "                          'MI RECOVERIES','NET SALES PROCEEDS','NON MI RECOVERIES','EXPENSES','Legal Costs','Maintenance and Preservation Costs','Taxes and Insurance',\n",
    "                          'Miscellaneous Expenses','Actual Loss Calculation','Modification Cost']\n",
    "#     a.to_csv('123.csv',chunksize=1024)\n",
    "    a['year']=pd.DataFrame(a['MONTHLY REPORTING PERIOD'].astype(str))\n",
    "    \n",
    "    a['year']=pd.DataFrame(a['year'].str[:4])\n",
    "    a['CURRENT LOAN DELINQUENCY STATUS']=pd.DataFrame(a['CURRENT LOAN DELINQUENCY STATUS'].replace(r'R', 0, regex=True))\n",
    "    a['CURRENT LOAN DELINQUENCY STATUS']=pd.DataFrame(a['CURRENT LOAN DELINQUENCY STATUS'].replace(r'XX', 0, regex=True))\n",
    "    a['CURRENT LOAN DELINQUENCY STATUS']=pd.DataFrame(a['CURRENT LOAN DELINQUENCY STATUS'].replace(r'\\s+', 0, regex=True))\n",
    "    a['CURRENT LOAN DELINQUENCY STATUS']=pd.DataFrame(a['CURRENT LOAN DELINQUENCY STATUS'].astype(int))\n",
    "    a['MI RECOVERIES']=pd.DataFrame(a['MI RECOVERIES'].astype(int))\n",
    "    a['EXPENSES']=pd.DataFrame(a['EXPENSES'].astype(int))\n",
    "    a['Maintenance and Preservation Costs']=pd.DataFrame(a['Maintenance and Preservation Costs'].astype(int))\n",
    "    a['Actual Loss Calculation']=pd.DataFrame(a['Actual Loss Calculation'].astype(int))\n",
    "    df1=pd.DataFrame(a.groupby(['year','ZERO BALANCE CODE','REPURCHASE FLAG','MODIFICATION FLAG','LOAN SEQUENCE NUMBER'])['Actual Loss Calculation',\n",
    "                                        'Modification Cost','Miscellaneous Expenses','Taxes and Insurance','Maintenance and Preservation Costs',\n",
    "                                        'Legal Costs','EXPENSES'].sum())\n",
    "    \n",
    "    summary2.append(df1)\n",
    "    \n",
    "final_summary_2= pd.concat(summary2)\n",
    "del summary2"
   ]
  },
  {
   "cell_type": "code",
   "execution_count": 33,
   "metadata": {
    "collapsed": true,
    "scrolled": true
   },
   "outputs": [],
   "source": [
    "final_summary_2.to_csv(path_to_summary+'Summary2_Performance.csv')\n",
    "del final_summary_2"
   ]
  },
  {
   "cell_type": "code",
   "execution_count": null,
   "metadata": {
    "collapsed": true
   },
   "outputs": [],
   "source": []
  },
  {
   "cell_type": "code",
   "execution_count": 34,
   "metadata": {
    "collapsed": true
   },
   "outputs": [],
   "source": [
    "final_summary_2=pd.read_csv('Summary2_Performance.csv')\n",
    "\n",
    "df_origination= pd.read_csv('Origination.csv')"
   ]
  },
  {
   "cell_type": "code",
   "execution_count": 35,
   "metadata": {
    "collapsed": true,
    "scrolled": true
   },
   "outputs": [],
   "source": [
    "df_performance_origination2= final_summary_2.merge(df_origination,on='LOAN SEQUENCE NUMBER',how='left')\n",
    "df_performance_origination2.to_csv(path_to_summary+'Performance_Origination_Summary2.csv')"
   ]
  },
  {
   "cell_type": "code",
   "execution_count": 36,
   "metadata": {
    "collapsed": true
   },
   "outputs": [],
   "source": [
    "df_performance_1= pd.read_csv('Summary1_Performance.csv')\n",
    "\n",
    "df_performance_orig_1= (df_performance_1.groupby('LOAN SEQUENCE NUMBER')['CURRENT LOAN DELINQUENCY STATUS','CURRENT ACTUAL UPB',\n",
    "                                                                       'CURRENT INTEREST RATE','Actual Loss Calculation'].mean()).reset_index()\n",
    "\n",
    "df_performance_orig_2= pd.read_csv('Orig_Loan_Number_Summary.csv')\n",
    "\n",
    "df_performance_orig= df_performance_orig_2.merge(df_performance_orig_1,on='LOAN SEQUENCE NUMBER',how='left')\n",
    "\n",
    "\n",
    "df_performance_orig.to_csv(path_to_summary+'Performance_Origination_summary.csv')"
   ]
  },
  {
   "cell_type": "code",
   "execution_count": 111,
   "metadata": {},
   "outputs": [
    {
     "data": {
      "text/html": [
       "<div>\n",
       "<table border=\"1\" class=\"dataframe\">\n",
       "  <thead>\n",
       "    <tr style=\"text-align: right;\">\n",
       "      <th></th>\n",
       "      <th>LOAN SEQUENCE NUMBER</th>\n",
       "      <th>CURRENT LOAN DELINQUENCY STATUS</th>\n",
       "      <th>CURRENT ACTUAL UPB</th>\n",
       "      <th>CURRENT INTEREST RATE</th>\n",
       "      <th>Actual Loss Calculation</th>\n",
       "    </tr>\n",
       "  </thead>\n",
       "  <tbody>\n",
       "    <tr>\n",
       "      <th>0</th>\n",
       "      <td>F105Q1000064</td>\n",
       "      <td>0.00</td>\n",
       "      <td>58984.534600</td>\n",
       "      <td>5.750</td>\n",
       "      <td>0.0</td>\n",
       "    </tr>\n",
       "    <tr>\n",
       "      <th>1</th>\n",
       "      <td>F105Q1000076</td>\n",
       "      <td>0.00</td>\n",
       "      <td>171788.100341</td>\n",
       "      <td>5.250</td>\n",
       "      <td>0.0</td>\n",
       "    </tr>\n",
       "    <tr>\n",
       "      <th>2</th>\n",
       "      <td>F105Q1000087</td>\n",
       "      <td>0.05</td>\n",
       "      <td>93589.205500</td>\n",
       "      <td>5.750</td>\n",
       "      <td>0.0</td>\n",
       "    </tr>\n",
       "    <tr>\n",
       "      <th>3</th>\n",
       "      <td>F105Q1000130</td>\n",
       "      <td>0.00</td>\n",
       "      <td>308902.324815</td>\n",
       "      <td>5.875</td>\n",
       "      <td>0.0</td>\n",
       "    </tr>\n",
       "    <tr>\n",
       "      <th>4</th>\n",
       "      <td>F105Q1000195</td>\n",
       "      <td>0.00</td>\n",
       "      <td>117507.781797</td>\n",
       "      <td>5.875</td>\n",
       "      <td>0.0</td>\n",
       "    </tr>\n",
       "  </tbody>\n",
       "</table>\n",
       "</div>"
      ],
      "text/plain": [
       "  LOAN SEQUENCE NUMBER  CURRENT LOAN DELINQUENCY STATUS  CURRENT ACTUAL UPB  \\\n",
       "0         F105Q1000064                             0.00        58984.534600   \n",
       "1         F105Q1000076                             0.00       171788.100341   \n",
       "2         F105Q1000087                             0.05        93589.205500   \n",
       "3         F105Q1000130                             0.00       308902.324815   \n",
       "4         F105Q1000195                             0.00       117507.781797   \n",
       "\n",
       "   CURRENT INTEREST RATE  Actual Loss Calculation  \n",
       "0                  5.750                      0.0  \n",
       "1                  5.250                      0.0  \n",
       "2                  5.750                      0.0  \n",
       "3                  5.875                      0.0  \n",
       "4                  5.875                      0.0  "
      ]
     },
     "execution_count": 111,
     "metadata": {},
     "output_type": "execute_result"
    }
   ],
   "source": []
  },
  {
   "cell_type": "code",
   "execution_count": 112,
   "metadata": {
    "collapsed": true
   },
   "outputs": [],
   "source": []
  },
  {
   "cell_type": "code",
   "execution_count": null,
   "metadata": {
    "collapsed": true
   },
   "outputs": [],
   "source": []
  },
  {
   "cell_type": "code",
   "execution_count": 113,
   "metadata": {
    "collapsed": true
   },
   "outputs": [],
   "source": []
  },
  {
   "cell_type": "code",
   "execution_count": null,
   "metadata": {
    "collapsed": true
   },
   "outputs": [],
   "source": []
  },
  {
   "cell_type": "code",
   "execution_count": 115,
   "metadata": {
    "collapsed": true
   },
   "outputs": [],
   "source": []
  },
  {
   "cell_type": "code",
   "execution_count": null,
   "metadata": {
    "collapsed": true
   },
   "outputs": [],
   "source": []
  },
  {
   "cell_type": "code",
   "execution_count": null,
   "metadata": {
    "collapsed": true
   },
   "outputs": [],
   "source": []
  },
  {
   "cell_type": "code",
   "execution_count": null,
   "metadata": {
    "collapsed": true
   },
   "outputs": [],
   "source": []
  },
  {
   "cell_type": "code",
   "execution_count": null,
   "metadata": {
    "collapsed": true
   },
   "outputs": [],
   "source": []
  },
  {
   "cell_type": "code",
   "execution_count": null,
   "metadata": {
    "collapsed": true
   },
   "outputs": [],
   "source": []
  },
  {
   "cell_type": "code",
   "execution_count": null,
   "metadata": {
    "collapsed": true
   },
   "outputs": [],
   "source": []
  },
  {
   "cell_type": "code",
   "execution_count": null,
   "metadata": {
    "collapsed": true
   },
   "outputs": [],
   "source": []
  },
  {
   "cell_type": "code",
   "execution_count": null,
   "metadata": {
    "collapsed": true
   },
   "outputs": [],
   "source": []
  },
  {
   "cell_type": "code",
   "execution_count": null,
   "metadata": {
    "collapsed": true
   },
   "outputs": [],
   "source": []
  }
 ],
 "metadata": {
  "anaconda-cloud": {},
  "kernelspec": {
   "display_name": "Python 3",
   "language": "python",
   "name": "python3"
  },
  "language_info": {
   "codemirror_mode": {
    "name": "ipython",
    "version": 3
   },
   "file_extension": ".py",
   "mimetype": "text/x-python",
   "name": "python",
   "nbconvert_exporter": "python",
   "pygments_lexer": "ipython3",
   "version": "3.6.1"
  }
 },
 "nbformat": 4,
 "nbformat_minor": 2
}

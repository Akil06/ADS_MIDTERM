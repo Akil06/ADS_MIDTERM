{
 "cells": [
  {
   "cell_type": "markdown",
   "metadata": {},
   "source": [
    "**# ADS MIDTERM ASSIGNMENT**\n",
    "Under the guidance of Prof. SriKanth Krishnamurthy and Pranjal Jain.\n",
    "\n",
    "## Worked upon by:\n",
    "1. Akilan Rajendiran\n",
    "2. Dhruv Kanakia\n",
    "\n",
    "\n",
    "## Freddimac Single Family level loan Dataset\n",
    "\n",
    "![freddie-mac](https://user-images.githubusercontent.com/29669364/28488010-b3f89f16-6e6e-11e7-91e9-9695ffd62804.jpg)\n",
    "\n",
    "LINK to the r\n",
    "\n",
    "WORKFLOW:\n",
    "\n",
    "![capture](https://user-images.githubusercontent.com/29669364/28488063-c60e8d18-6e6f-11e7-9884-8c26f69d3c24.JPG)\n",
    "\n",
    "\n",
    "STEPS TO RUN DOCKER IMAGE\n",
    "\n",
    "•\tDocker pull akil06/midterm:image1\n",
    "\n",
    "•\tsudo docker run -ti -p 8888:8888 image id /bin/bash\n",
    "\n",
    "\n",
    "•\tjupyter notebook --ip 0.0.0.0 --no-browser --allow-root\n",
    "\n",
    "•\tDocker pull akil06/midterm:image2\n",
    "\n",
    "•\tsudo docker run -ti -p 8888:8888 image id /bin/bash\n",
    "\n",
    "\n",
    "•\tjupyter notebook --ip 0.0.0.0 --no-browser --allow-root\n",
    "\n",
    "•\tDocker pull akil06/midterm:image3\n",
    "\n",
    "•\tsudo docker run -ti -p 8888:8888 image id /bin/bash\n",
    "\n",
    "\n",
    "•\tjupyter notebook --ip 0.0.0.0 --no-browser --allow-root\n",
    "\n"
   ]
  }
 ],
 "metadata": {
  "kernelspec": {
   "display_name": "Python 3",
   "language": "python",
   "name": "python3"
  },
  "language_info": {
   "codemirror_mode": {
    "name": "ipython",
    "version": 3
   },
   "file_extension": ".py",
   "mimetype": "text/x-python",
   "name": "python",
   "nbconvert_exporter": "python",
   "pygments_lexer": "ipython3",
   "version": "3.6.1"
  }
 },
 "nbformat": 4,
 "nbformat_minor": 2
}

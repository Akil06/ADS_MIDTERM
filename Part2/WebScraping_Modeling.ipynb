{
 "cells": [
  {
   "cell_type": "code",
   "execution_count": 1,
   "metadata": {
    "collapsed": true
   },
   "outputs": [],
   "source": [
    "import requests\n",
    "from lxml import html\n",
    "import os\n",
    "import sys\n",
    "import logging # for logging\n",
    "import shutil #to delete the directory contents\n",
    "import zipfile\n",
    "from zipfile import ZipFile\n",
    "from io import BytesIO\n",
    "import pandas as pd\n",
    "import zipfile\n",
    "import numpy as np\n",
    "import json\n",
    "import logging\n",
    "import logging.handlers\n",
    "import time\n",
    "import glob\n",
    "import csv\n",
    "import seaborn as sns\n",
    "from numbers import Number"
   ]
  },
  {
   "cell_type": "code",
   "execution_count": 3,
   "metadata": {},
   "outputs": [
    {
     "name": "stdout",
     "output_type": "stream",
     "text": [
      "2017-07-21_23_04_21.log\n"
     ]
    }
   ],
   "source": [
    "import logging\n",
    "import logging.handlers\n",
    "\n",
    "logger=logging.getLogger(__name__)\n",
    "logger.setLevel(logging.INFO)\n",
    "\n",
    "logfile1 = time.strftime(\"%Y-%m-%d_%H_%M_%S\"+\".log\")\n",
    "print (logfile1)\n",
    "handler= logging.FileHandler(logfile1)\n",
    "handler.setLevel(logging.INFO)\n",
    "\n",
    "formatter= logging.Formatter('%(asctime)s - %(name)s - %(levelname)s - %(message)s')\n",
    "handler.setFormatter(formatter)\n",
    "logger.addHandler(handler)"
   ]
  },
  {
   "cell_type": "code",
   "execution_count": 6,
   "metadata": {},
   "outputs": [],
   "source": [
    "logger.info('Reading Json')\n",
    "\n",
    "with open('mode_config.json') as data:\n",
    "    payload=json.load(data)"
   ]
  },
  {
   "cell_type": "code",
   "execution_count": null,
   "metadata": {},
   "outputs": [],
   "source": [
    "logger.info('Logging in and Downloading Zip ')\n",
    "filename= 'historical_zips'\n",
    "path = '/historical_zips'\n",
    "path1= os.getcwd()+path\n",
    "if not os.path.exists(path1):\n",
    "    os.makedirs(path1)\n",
    "with requests.session() as s:\n",
    "    login_url = \"https://freddiemac.embs.com/FLoan/secure/auth.php\"\n",
    "    result = s.post(\n",
    "        login_url, \n",
    "        data = payload, \n",
    "        headers = dict(referer=login_url)\n",
    "    )\n",
    "    result.content\n",
    "    url = 'https://freddiemac.embs.com/FLoan/Data/download.php'\n",
    "    agreement_payload={\n",
    "        \"accept\":\"Yes\",\n",
    "        \"action\":\"acceptTandC\",\n",
    "        \"acceptSubmit\":\"Continue\"\n",
    "        }\n",
    "    result1 = s.post(\n",
    "        url, \n",
    "        agreement_payload,\n",
    "        headers = dict(referer = url)\n",
    "    )\n",
    "    tree = html.fromstring(result1.content)\n",
    "    all_links= tree.findall('.//a')\n",
    "    for link in all_links[0:75]:\n",
    "        href=link.get(\"href\")\n",
    "        if \"hist\" in href:\n",
    "            url= 'https://freddiemac.embs.com/FLoan/Data/'+href\n",
    "            r = s.get(url,stream=True)\n",
    "#             print(r)\n",
    "            with open(os.path.join(path1,link.text), 'wb') as f:\n",
    "#                 print(link.text)\n",
    "                for chunk in r.iter_content(chunk_size=1024):\n",
    "                    if chunk: # filter out keep-alive new chunks\n",
    "                        f.write(chunk)\n",
    "\n",
    "                    \n",
    "logger.info('Successfully downloaded zip files ')"
   ]
  },
  {
   "cell_type": "code",
   "execution_count": 9,
   "metadata": {
    "collapsed": true
   },
   "outputs": [],
   "source": [
    "logger.info('Checking if a folder exists and creating a folder for saving unzipped files')\n",
    "unzip_folder='hist_unzip'\n",
    "path_unzip = '/hist_unzip'\n",
    "path_to_unzip= os.getcwd()+path_unzip\n",
    "if not os.path.exists(path_to_unzip):\n",
    "    os.makedirs(path_to_unzip)"
   ]
  },
  {
   "cell_type": "code",
   "execution_count": null,
   "metadata": {
    "collapsed": true
   },
   "outputs": [],
   "source": []
  }
 ],
 "metadata": {
  "kernelspec": {
   "display_name": "Python 3",
   "language": "python",
   "name": "python3"
  },
  "language_info": {
   "codemirror_mode": {
    "name": "ipython",
    "version": 3
   },
   "file_extension": ".py",
   "mimetype": "text/x-python",
   "name": "python",
   "nbconvert_exporter": "python",
   "pygments_lexer": "ipython3",
   "version": "3.6.1"
  }
 },
 "nbformat": 4,
 "nbformat_minor": 2
}
